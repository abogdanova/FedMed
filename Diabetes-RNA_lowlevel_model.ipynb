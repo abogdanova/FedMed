{
 "cells": [
  {
   "cell_type": "code",
   "execution_count": 49,
   "metadata": {},
   "outputs": [],
   "source": [
    "import pandas as pd\n",
    "import numpy as np\n",
    "import tensorflow as tf\n",
    "import matplotlib.pyplot as plt\n",
    "import time\n",
    "import datetime\n",
    "from sklearn.preprocessing import StandardScaler\n",
    "from sklearn.model_selection import train_test_split\n",
    "from tensorflow.python.framework import ops\n",
    "from tensorflow import keras\n",
    "import random\n",
    "import math\n",
    "\n",
    "\n",
    "%matplotlib inline\n",
    "np.random.seed(1)"
   ]
  },
  {
   "cell_type": "code",
   "execution_count": 44,
   "metadata": {},
   "outputs": [],
   "source": [
    "def diabetes_data():\n",
    "    \n",
    "    # load data\n",
    "    df = pd.read_csv('diabetic_data.csv')\n",
    "    df = df.replace('?', np.nan)\n",
    "    \n",
    "    # take only patients who were discharged home or to nursing care facilities\n",
    "    df = df.loc[df.discharge_disposition_id.isin([1,3,4,6,8,22,24])]\n",
    "    \n",
    "    # code the target variable into three classes\n",
    "    target = pd.get_dummies(df['readmitted'])\n",
    "    df = pd.concat([df, target], axis = 1)\n",
    "    \n",
    "    # pick only top 10 medical specialities and group the rest as \"other\"\n",
    "    df['medical_specialty'] = df['medical_specialty'].fillna('UNK')\n",
    "    df['med_spec'] = df['medical_specialty'].copy()\n",
    "    top_10 = ['UNK', 'InternalMedicine', 'Emergency/Trauma', 'Family/GeneralPractice', 'Cardiology', 'Surgery-General', 'Nephrology', \n",
    "           'Orthopedics', 'Orthopedics-Reconstructive', 'Radiologist']\n",
    "    df.loc[~df.med_spec.isin(top_10), 'med_spec'] = 'Other'\n",
    "    \n",
    "    # turn age into numeric\n",
    "    df['age_num'] = df['age'].copy()\n",
    "    age_num = {'[0-10)':0,  '[10-20)':1,\n",
    "           '[20-30)':2, '[30-40)':3,\n",
    "           '[40-50)':4, '[50-60)':5,\n",
    "           '[60-70)':6, '[60-70)':6,\n",
    "           '[70-80)':7, '[80-90)':8,\n",
    "           '[90-100)':9}\n",
    "    df = df.replace(age_num)\n",
    "    \n",
    "    # turn weight into binary: if the weight was measured or not\n",
    "    df['has_weight'] = df.weight.notnull().astype('int')\n",
    "    \n",
    "    # take numerical columns\n",
    "    cols_num = ['time_in_hospital','num_lab_procedures', 'num_procedures', 'num_medications', 'number_outpatient', 'number_emergency', 'number_inpatient', 'number_diagnoses','age_num','has_weight']\n",
    "\n",
    "    # scale numerical columns\n",
    "    df[cols_num] = df[cols_num].apply(lambda x: x/x.max(), axis=0)\n",
    "    \n",
    "    # turn indexed variables into strings\n",
    "    indexed = ['admission_type_id', 'discharge_disposition_id', 'admission_source_id']\n",
    "    df[indexed] = df[indexed].astype('str')\n",
    "    \n",
    "    # process categorical columns intu dummy variables \n",
    "    cols_cat = ['race', 'gender',\n",
    "       'admission_type_id', 'discharge_disposition_id', 'admission_source_id',\n",
    "       'payer_code', 'max_glu_serum', 'A1Cresult',\n",
    "       'metformin', 'repaglinide', 'nateglinide', 'chlorpropamide',\n",
    "       'glimepiride', 'acetohexamide', 'glipizide', 'glyburide', 'tolbutamide',\n",
    "       'pioglitazone', 'rosiglitazone', 'acarbose', 'miglitol', 'troglitazone',\n",
    "       'tolazamide', 'examide', 'citoglipton', 'insulin',\n",
    "       'glyburide-metformin', 'glipizide-metformin',\n",
    "       'glimepiride-pioglitazone', 'metformin-rosiglitazone',\n",
    "       'metformin-pioglitazone', 'change', 'diabetesMed', 'med_spec'] \n",
    "    df['race'] = df['race'].fillna('UNK')\n",
    "    df['payer_code'] = df['payer_code'].fillna('UNK')\n",
    "    df_cat = pd.get_dummies(df[cols_cat])\n",
    "    df = pd.concat([df, df_cat], axis = 1)\n",
    "    cols_cat = list(df_cat.columns)\n",
    "    \n",
    "    all_data = pd.concat([df[cols_cat + cols_num], target], axis = 1)\n",
    "    \n",
    "    #shuffle data\n",
    "    all_data = all_data.sample(n=len(all_data), random_state = 1)\n",
    "    all_data = all_data.reset_index(drop=True)\n",
    "    \n",
    "#     scaler = StandardScaler()\n",
    "#     scaler.fit(all_data)\n",
    "#     all_data = scaler.transform(all_data)\n",
    "\n",
    "    return (all_data[:45000], all_data[45001:])"
   ]
  },
  {
   "cell_type": "code",
   "execution_count": 198,
   "metadata": {},
   "outputs": [],
   "source": [
    "def gene_data():\n",
    "    \n",
    "    df_X = pd.read_csv('gene_data.csv', index_col=0)\n",
    "    df_Y = pd.read_csv('gene_labels.csv', index_col=0)\n",
    "    \n",
    "    # encode classes as dummy variables and concatenate with features for shuffling and sampling\n",
    "    target = pd.get_dummies(df_Y['Class'])\n",
    "    all_data = pd.concat([df_X, target], axis = 1)\n",
    "    \n",
    "    #shuffle data\n",
    "    all_data = all_data.sample(n=len(all_data), random_state = 1)\n",
    "    all_data = all_data.reset_index(drop=True)\n",
    "    \n",
    "    return (all_data[:400], all_data[400:])"
   ]
  },
  {
   "cell_type": "code",
   "execution_count": 211,
   "metadata": {},
   "outputs": [],
   "source": [
    "def mnist_data():\n",
    "    mnist = keras.datasets.mnist\n",
    "    (X_train_orig, y_train_orig), (X_test_orig, y_test_orig) = mnist.load_data()\n",
    "    \n",
    "    # Flatten\n",
    "    X_train_flatten = X_train_orig.reshape(X_train_orig.shape[0], -1)\n",
    "    X_test_flatten = X_test_orig.reshape(X_test_orig.shape[0], -1)\n",
    "    \n",
    "    # Normalize image vectors\n",
    "    X_train = X_train_flatten/255.\n",
    "    X_test = X_test_flatten/255.\n",
    "    \n",
    "    # Convert training and test labels to one hot matrices\n",
    "    y_train = np.squeeze(np.eye(10)[y_train_orig.reshape(-1)])\n",
    "    y_test = np.squeeze(np.eye(10)[y_test_orig.reshape(-1)])        \n",
    "    \n",
    "    return (X_train, y_train, X_test, y_test)"
   ]
  },
  {
   "cell_type": "markdown",
   "metadata": {},
   "source": [
    "# Get data and cast it into network-digestable format"
   ]
  },
  {
   "cell_type": "code",
   "execution_count": 387,
   "metadata": {},
   "outputs": [],
   "source": [
    "def get_data(data): \n",
    "    if data == 'diabetes':\n",
    "        data, shadow = diabetes_data()\n",
    "        # split data into train and test\n",
    "        class_names = ['<30', '>30', 'NO']\n",
    "        y = data[class_names]\n",
    "        X = data.drop(class_names, axis=1)\n",
    "        X_train, X_test, y_train, y_test = train_test_split(X, y, test_size = 0.15, random_state=1)\n",
    "\n",
    "    elif data == 'gene':\n",
    "        data, shadow = gene_data()\n",
    "        class_names = ['BRCA', 'COAD', 'KIRC', 'LUAD', 'PRAD']\n",
    "        y = data[class_names]\n",
    "        X = data.drop(class_names, axis=1)\n",
    "        X_train, X_test, y_train, y_test = train_test_split(X, y, test_size = 0.15, random_state=1)\n",
    "    \n",
    "    elif data == 'mnist':\n",
    "        (X_train, y_train, X_test, y_test) = mnist_data()\n",
    "        \n",
    "        # Take half of training tada as target set\n",
    "        y_train = y_train[:30000]\n",
    "        X_train = X_train[:30000]\n",
    "    \n",
    "    elif data == 'mnist_shadow':\n",
    "        (X_train, y_train, X_test, y_test) = mnist_data()\n",
    "        \n",
    "        # Take second half of training data as shadow dataset\n",
    "        y_shadow = y_train[30000:]\n",
    "        X_shadow = X_train[30000:]\n",
    "        \n",
    "        # Split it in half to form training and test shadow sets\n",
    "        X_train, X_test, y_train, y_test = train_test_split(X_shadow, y_shadow, test_size = 0.5, random_state=1)\n",
    "        \n",
    "    # cast dataframes to numpy arrays and transpose for easier use in tensorflow\n",
    "\n",
    "    X_train = np.array(X_train).T\n",
    "    X_test = np.array(X_test).T\n",
    "    Y_train = np.array(y_train).T\n",
    "    Y_test = np.array(y_test).T\n",
    "        \n",
    "                                                                        \n",
    "    print (\"number of training examples = \" + str(X_train.shape[1]))\n",
    "    print (\"number of test examples = \" + str(X_test.shape[1]))\n",
    "    print (\"X_train shape: \" + str(X_train.shape))\n",
    "    print (\"Y_train shape: \" + str(Y_train.shape))\n",
    "    print (\"X_test shape: \" + str(X_test.shape))\n",
    "    print (\"Y_test shape: \" + str(Y_test.shape))\n",
    "    \n",
    "    return X_train, Y_train, X_test, Y_test                                             "
   ]
  },
  {
   "cell_type": "code",
   "execution_count": 399,
   "metadata": {},
   "outputs": [
    {
     "name": "stdout",
     "output_type": "stream",
     "text": [
      "number of training examples = 30000\n",
      "number of test examples = 10000\n",
      "X_train shape: (784, 30000)\n",
      "Y_train shape: (10, 30000)\n",
      "X_test shape: (784, 10000)\n",
      "Y_test shape: (10, 10000)\n",
      "number of training examples = 15000\n",
      "number of test examples = 15000\n",
      "X_train shape: (784, 15000)\n",
      "Y_train shape: (10, 15000)\n",
      "X_test shape: (784, 15000)\n",
      "Y_test shape: (10, 15000)\n"
     ]
    }
   ],
   "source": [
    "X_train_tg, Y_train_tg, X_test_tg, Y_test_tg = get_data('mnist')\n",
    "X_train, Y_train, X_test, Y_test = get_data('mnist_shadow')"
   ]
  },
  {
   "cell_type": "code",
   "execution_count": 409,
   "metadata": {},
   "outputs": [
    {
     "name": "stdout",
     "output_type": "stream",
     "text": [
      "Cost after epoch 0: 0.980189\n"
     ]
    },
    {
     "data": {
      "image/png": "[encoded data removed]",
      "text/plain": [
       "<Figure size 432x288 with 1 Axes>"
      ]
     },
     "metadata": {
      "needs_background": "light"
     },
     "output_type": "display_data"
    },
    {
     "name": "stdout",
     "output_type": "stream",
     "text": [
      "Parameters have been trained!\n",
      "Train Accuracy: 0.9975\n",
      "Test Accuracy: 0.967\n"
     ]
    }
   ],
   "source": [
    "parameters_tg = model(X_train_tg, Y_train_tg, X_test_tg, Y_test_tg)"
   ]
  },
  {
   "cell_type": "code",
   "execution_count": 401,
   "metadata": {},
   "outputs": [
    {
     "name": "stdout",
     "output_type": "stream",
     "text": [
      "Cost after epoch 0: 1.380558\n"
     ]
    },
    {
     "data": {
      "image/png": "[encoded data removed]",
      "text/plain": [
       "<Figure size 432x288 with 1 Axes>"
      ]
     },
     "metadata": {
      "needs_background": "light"
     },
     "output_type": "display_data"
    },
    {
     "name": "stdout",
     "output_type": "stream",
     "text": [
      "Parameters have been trained!\n",
      "Train Accuracy: 1.0\n",
      "Test Accuracy: 0.9564\n"
     ]
    }
   ],
   "source": [
    "parameters = model(X_train, Y_train, X_test, Y_test)"
   ]
  },
  {
   "cell_type": "code",
   "execution_count": 417,
   "metadata": {},
   "outputs": [
    {
     "name": "stdout",
     "output_type": "stream",
     "text": [
      "number of training examples = 30000\n",
      "number of test examples = 30000\n",
      "X_train shape: (30000, 20)\n",
      "Y_train shape: (30000,)\n",
      "X_test shape: (30000, 20)\n",
      "Y_test shape: (30000,)\n"
     ]
    }
   ],
   "source": [
    "X_train_adv, Y_train_adv, X_test_adv, Y_test_adv = get_adversary()"
   ]
  },
  {
   "cell_type": "code",
   "execution_count": 416,
   "metadata": {},
   "outputs": [],
   "source": [
    "def get_adversary():\n",
    "    # turn softmax of training examples into a dataframe\n",
    "    df1 = pd.DataFrame(get_softmax(X_train, parameters).T)\n",
    "    # add true classes \n",
    "    true1 = pd.DataFrame(Y_train.T)\n",
    "    df1 = pd.concat([df1, true1], axis=1)\n",
    "    # label as 1\n",
    "    df1['label'] = 1\n",
    "    # turn softmax of unseen examples into a dataframe\n",
    "    df2 = pd.DataFrame(get_softmax(X_test, parameters).T)\n",
    "    true2 = pd.DataFrame(Y_test.T)\n",
    "    # add true classes\n",
    "    df2 = pd.concat([df2, true2], axis=1)\n",
    "    # label as 0\n",
    "    df2['label'] = 0\n",
    "    # combine\n",
    "    df = pd.concat([df1, df2], axis=0)\n",
    "    # shuffle\n",
    "    df = df.sample(n=len(df), random_state = 1)\n",
    "    df = df.reset_index(drop=True)\n",
    "    \n",
    "    # Get prediction vectors from a target set\n",
    "    X_target, Y_target, __, __, = mnist_data()\n",
    "    X_target = X_target[:30000].T\n",
    "    target_soft = get_softmax(X_target, parameters_tg)\n",
    "    \n",
    "    #construct training and test set for adversarial model\n",
    "    X = df.copy()\n",
    "    y = X.pop('label')\n",
    "    #y = np.array(y).reshape(y.shape[0], 1)\n",
    "    X_train_adv = np.array(X)\n",
    "    Y_train_adv = np.array(y)\n",
    "    Y_test_adv = np.ones(30000,)\n",
    "    X_test_adv = np.concatenate([target_soft.T, Y_target[:30000]], axis=1)\n",
    "    \n",
    "    print (\"number of training examples = \" + str(X_train_adv.shape[0]))\n",
    "    print (\"number of test examples = \" + str(X_test_adv.shape[0]))\n",
    "    print (\"X_train shape: \" + str(X_train_adv.shape))\n",
    "    print (\"Y_train shape: \" + str(Y_train_adv.shape))\n",
    "    print (\"X_test shape: \" + str(X_test_adv.shape))\n",
    "    print (\"Y_test shape: \" + str(Y_test_adv.shape))\n",
    "    \n",
    "    return X_train_adv, Y_train_adv, X_test_adv, Y_test_adv"
   ]
  },
  {
   "cell_type": "code",
   "execution_count": 430,
   "metadata": {},
   "outputs": [
    {
     "data": {
      "text/plain": [
       "0.5098666666666667"
      ]
     },
     "execution_count": 430,
     "metadata": {},
     "output_type": "execute_result"
    }
   ],
   "source": [
    "from sklearn.linear_model import LogisticRegression\n",
    "from sklearn.svm import SVC\n",
    "\n",
    "#clf = SVC(gamma='auto').fit(X_train_adv, Y_train_adv)\n",
    "clf = LogisticRegression(random_state=1).fit(X_train_adv, Y_train_adv)\n",
    "\n",
    "clf.score(X_train_adv, Y_train_adv)"
   ]
  },
  {
   "cell_type": "code",
   "execution_count": 27,
   "metadata": {},
   "outputs": [],
   "source": [
    "# data, shadow = gene_data()\n",
    "# y = shadow[['BRCA', 'COAD', 'KIRC', 'LUAD', 'PRAD']]\n",
    "# x = shadow.drop(['BRCA', 'COAD', 'KIRC', 'LUAD', 'PRAD'], axis=1)\n",
    "# X_test = np.array(x).T\n",
    "# Y_test = np.array(y).T\n",
    "# print (\"X_test shape: \" + str(X_test.shape))\n",
    "# print (\"Y_test shape: \" + str(Y_test.shape))"
   ]
  },
  {
   "cell_type": "code",
   "execution_count": 28,
   "metadata": {},
   "outputs": [],
   "source": [
    "# from pandas dataset directly to tf.slices\n",
    "# training_dataset = tf.data.Dataset.from_tensor_slices((tf.cast(X_train.values, tf.float32), tf.cast(y_train.values, tf.int32)))"
   ]
  },
  {
   "cell_type": "code",
   "execution_count": 248,
   "metadata": {},
   "outputs": [],
   "source": [
    "def get_softmax(X, parameters):\n",
    "    X_p = tf.placeholder(tf.float32, [X.shape[0], None], name = \"X\")\n",
    "    softmax = forward_propagation(X_p, parameters)\n",
    "    init = tf.global_variables_initializer()\n",
    "    #auc = tf.metrics.auc(Y, Z3)\n",
    "\n",
    "    with tf.Session() as sess:\n",
    "        # Run the initialization\n",
    "        sess.run(init)\n",
    "        softmax = sess.run(softmax, feed_dict = {X_p:X})\n",
    "        return softmax"
   ]
  },
  {
   "cell_type": "markdown",
   "metadata": {},
   "source": [
    "# Build a simple model"
   ]
  },
  {
   "cell_type": "markdown",
   "metadata": {},
   "source": [
    "## Utility functions\n"
   ]
  },
  {
   "cell_type": "code",
   "execution_count": 327,
   "metadata": {},
   "outputs": [],
   "source": [
    "def create_placeholders(n_x, n_y):\n",
    "\n",
    "    X = tf.placeholder(tf.float32, [n_x, None], name = \"X\")\n",
    "    Y = tf.placeholder(tf.float32, [n_y, None], name = \"Y\")\n",
    "    \n",
    "    return X, Y\n",
    "\n",
    "def initialize_parameters(n_x, n_y):\n",
    "    \n",
    "    tf.set_random_seed(1)\n",
    "        \n",
    "    \n",
    "    W1 = tf.get_variable(\"W1\", [125, n_x], initializer = tf.contrib.layers.xavier_initializer(seed=1))\n",
    "    b1 = tf.get_variable(\"b1\", [125, 1], initializer = tf.zeros_initializer())\n",
    "    W2 = tf.get_variable(\"W2\", [25, 125], initializer = tf.contrib.layers.xavier_initializer(seed=1))\n",
    "    b2 = tf.get_variable(\"b2\", [25, 1], initializer = tf.zeros_initializer())\n",
    "    W3 = tf.get_variable(\"W3\", [n_y, 25], initializer = tf.contrib.layers.xavier_initializer(seed=1))\n",
    "    b3 = tf.get_variable(\"b3\", [n_y, 1], initializer = tf.zeros_initializer())\n",
    "    \n",
    "\n",
    "    parameters = {\n",
    "                  \"W1\": W1,\n",
    "                  \"b1\": b1,\n",
    "                  \"W2\": W2,\n",
    "                  \"b2\": b2,\n",
    "                  \"W3\": W3,\n",
    "                  \"b3\": b3}\n",
    "    \n",
    "    return parameters\n",
    "\n",
    "def forward_propagation(X, parameters):\n",
    "    \n",
    "    # Retrieve the parameters from the dictionary \"parameters\" \n",
    "    W1 = parameters['W1']\n",
    "    b1 = parameters['b1']\n",
    "    W2 = parameters['W2']\n",
    "    b2 = parameters['b2']\n",
    "    W3 = parameters['W3'] \n",
    "    b3 = parameters['b3']\n",
    "    \n",
    "    Z1 = tf.add(tf.matmul(W1, X), b1)                                # Z1 = np.dot(W1, X) + b1\n",
    "    A1 = tf.nn.relu(Z1)                                              # A1 = relu(Z1)\n",
    "    Z2 = tf.add(tf.matmul(W2, A1), b2)                               # Z2 = np.dot(W2, a1) + b2\n",
    "    A2 = tf.nn.relu(Z2)                                              # A2 = relu(Z2)\n",
    "    Z3 = tf.add(tf.matmul(W3, A2), b3)                               # Z3 = np.dot(W3,Z2) + b3\n",
    "\n",
    "    \n",
    "    return Z3\n",
    "\n",
    "def compute_cost(Z3, Y):\n",
    "    \n",
    "    \n",
    "    # to fit the tensorflow requirement for tf.nn.softmax_cross_entropy_with_logits(...,...)\n",
    "    logits = tf.transpose(Z3)\n",
    "    labels = tf.transpose(Y)\n",
    "    \n",
    "    cost = tf.reduce_mean(tf.nn.softmax_cross_entropy_with_logits(logits=logits, labels=labels))\n",
    "    \n",
    "    return cost\n",
    "\n",
    "def random_mini_batches(X, Y, mini_batch_size = 64, seed = 0):\n",
    "    \"\"\"\n",
    "    Creates a list of random minibatches from (X, Y)\n",
    "    \n",
    "    Arguments:\n",
    "    X -- input data, of shape (input size, number of examples)\n",
    "    Y -- true \"label\" vector (containing 0 if cat, 1 if non-cat), of shape (1, number of examples)\n",
    "    mini_batch_size - size of the mini-batches, integer\n",
    "    \n",
    "    Returns:\n",
    "    mini_batches -- list of synchronous (mini_batch_X, mini_batch_Y)\n",
    "    \"\"\"\n",
    "    \n",
    "    m = X.shape[1]                  # number of training examples\n",
    "    mini_batches = []\n",
    "    np.random.seed(seed)\n",
    "    \n",
    "    # Step 1: Shuffle (X, Y)\n",
    "    permutation = list(np.random.permutation(m))\n",
    "    shuffled_X = X[:, permutation]\n",
    "    shuffled_Y = Y[:, permutation].reshape((Y.shape[0],m))\n",
    "\n",
    "    # Step 2: Partition (shuffled_X, shuffled_Y). Minus the end case.\n",
    "    num_complete_minibatches = math.floor(m/mini_batch_size) # number of mini batches of size mini_batch_size in your partitionning\n",
    "    for k in range(0, num_complete_minibatches):\n",
    "        mini_batch_X = shuffled_X[:, k * mini_batch_size : k * mini_batch_size + mini_batch_size]\n",
    "        mini_batch_Y = shuffled_Y[:, k * mini_batch_size : k * mini_batch_size + mini_batch_size]\n",
    "        mini_batch = (mini_batch_X, mini_batch_Y)\n",
    "        mini_batches.append(mini_batch)\n",
    "    \n",
    "    # Handling the end case (last mini-batch < mini_batch_size)\n",
    "    if m % mini_batch_size != 0:\n",
    "        mini_batch_X = shuffled_X[:, num_complete_minibatches * mini_batch_size : m]\n",
    "        mini_batch_Y = shuffled_Y[:, num_complete_minibatches * mini_batch_size : m]\n",
    "        mini_batch = (mini_batch_X, mini_batch_Y)\n",
    "        mini_batches.append(mini_batch)\n",
    "    \n",
    "    return mini_batches\n"
   ]
  },
  {
   "cell_type": "markdown",
   "metadata": {},
   "source": [
    "## Building the model"
   ]
  },
  {
   "cell_type": "code",
   "execution_count": 328,
   "metadata": {},
   "outputs": [],
   "source": [
    "def model(X_train, Y_train, X_test, Y_test, learning_rate = 0.0001,\n",
    "          num_epochs = 100, minibatch_size = 32, print_cost = True):\n",
    "    \"\"\"\n",
    "    Implements a three-layer tensorflow neural network: LINEAR->RELU->LINEAR->RELU->LINEAR->SOFTMAX.\n",
    "    \n",
    "    Arguments:\n",
    "    X_train -- training set, of shape (input size = 20531, number of training examples = 340)\n",
    "    Y_train -- test set, of shape (output size = 5, number of training examples = 340)\n",
    "    X_test -- training set, of shape (input size = 20531, number of training examples = 60)\n",
    "    Y_test -- test set, of shape (output size = 5, number of test examples = 60)\n",
    "    learning_rate -- learning rate of the optimization\n",
    "    num_epochs -- number of epochs of the optimization loop\n",
    "    minibatch_size -- size of a minibatch\n",
    "    print_cost -- True to print the cost every 100 epochs\n",
    "    \n",
    "    Returns:\n",
    "    parameters -- parameters learnt by the model. They can then be used to predict.\n",
    "    \"\"\"\n",
    "    \n",
    "    ops.reset_default_graph()                         # to be able to rerun the model without overwriting tf variables\n",
    "    tf.set_random_seed(1)                             # to keep consistent results\n",
    "    seed = 3                                          # to keep consistent results\n",
    "    (n_x, m) = X_train.shape                          # (n_x: input size, m : number of examples in the train set)\n",
    "    n_y = Y_train.shape[0]                            # n_y : output size\n",
    "    costs = []                                        # To keep track of the cost\n",
    "    \n",
    "    # Create Placeholders of shape (n_x, n_y)\n",
    "    X, Y = create_placeholders(n_x, n_y)\n",
    "\n",
    "    # Initialize parameters\n",
    "    parameters = initialize_parameters(n_x, n_y)\n",
    " \n",
    "    # Forward propagation: Build the forward propagation in the tensorflow graph\n",
    "    Z3 = forward_propagation(X, parameters)\n",
    "    \n",
    "    # Cost function: Add cost function to tensorflow graph\n",
    "    cost = compute_cost(Z3, Y)\n",
    "    \n",
    "    # Backpropagation: Define the tensorflow optimizer. Use an AdamOptimizer.\n",
    "    optimizer = tf.train.AdamOptimizer(learning_rate=learning_rate).minimize(cost)\n",
    "    \n",
    "    # Initialize all the variables\n",
    "    init = tf.global_variables_initializer()\n",
    "\n",
    "    # Start the session to compute the tensorflow graph\n",
    "    with tf.Session() as sess:\n",
    "        \n",
    "        # Run the initialization\n",
    "        sess.run(init)\n",
    "        \n",
    "        # Do the training loop\n",
    "        for epoch in range(num_epochs):\n",
    "\n",
    "            epoch_cost = 0.                       # Defines a cost related to an epoch\n",
    "            num_minibatches = int(m / minibatch_size) # number of minibatches of size minibatch_size in the train set\n",
    "            seed = seed + 1\n",
    "            minibatches = random_mini_batches(X_train, Y_train, minibatch_size, seed)\n",
    "\n",
    "            for minibatch in minibatches:\n",
    "\n",
    "                # Select a minibatch\n",
    "                (minibatch_X, minibatch_Y) = minibatch\n",
    "                \n",
    "                # IMPORTANT: The line that runs the graph on a minibatch.\n",
    "                # Run the session to execute the \"optimizer\" and the \"cost\", the feedict should contain a minibatch for (X,Y).\n",
    "                _ , minibatch_cost = sess.run([optimizer, cost], feed_dict = {X:minibatch_X, Y:minibatch_Y})\n",
    "                \n",
    "                epoch_cost += minibatch_cost / num_minibatches\n",
    "\n",
    "            # Print the cost every epoch\n",
    "            if print_cost == True and epoch % 100 == 0:\n",
    "                print (\"Cost after epoch %i: %f\" % (epoch, epoch_cost))\n",
    "            if print_cost == True and epoch % 5 == 0:\n",
    "                costs.append(epoch_cost)\n",
    "                \n",
    "        # plot the cost\n",
    "        plt.plot(np.squeeze(costs))\n",
    "        plt.ylabel('cost')\n",
    "        plt.xlabel('iterations (per tens)')\n",
    "        plt.title(\"Learning rate =\" + str(learning_rate))\n",
    "        plt.show()\n",
    "\n",
    "        # lets save the parameters in a variable\n",
    "        parameters = sess.run(parameters)\n",
    "        print (\"Parameters have been trained!\")\n",
    "\n",
    "        # Calculate the correct predictions\n",
    "        correct_prediction = tf.equal(tf.argmax(Z3), tf.argmax(Y))\n",
    "\n",
    "        # Calculate accuracy on the test set\n",
    "        accuracy = tf.reduce_mean(tf.cast(correct_prediction, \"float\"))\n",
    "\n",
    "        print (\"Train Accuracy:\", accuracy.eval({X: X_train, Y: Y_train}))\n",
    "        print (\"Test Accuracy:\", accuracy.eval({X: X_test, Y: Y_test}))\n",
    "        \n",
    "        try:\n",
    "            with open('Log/'+datetime.datetime.now().strftime(\"%y-%m-%d-%H-%M\")+'.txt', 'w') as log:\n",
    "                print(\"Train size: {}, learning rate: {}, num_epochs: {}, minibatch_size: {}\"\n",
    "                      .format(m, learning_rate, num_epochs, minibatch_size), file=log)\n",
    "                print(costs, file=log)\n",
    "                print(\"Train Accuracy:\", accuracy.eval({X: X_train, Y: Y_train}), file=log)\n",
    "                print(\"Test Accuracy:\", accuracy.eval({X: X_test, Y: Y_test}), file=log)\n",
    "                \n",
    "        except IOError:\n",
    "                print('File Error')\n",
    "        \n",
    "        return parameters"
   ]
  },
  {
   "cell_type": "code",
   "execution_count": 219,
   "metadata": {},
   "outputs": [
    {
     "data": {
      "text/plain": [
       "0.9946666666666668"
      ]
     },
     "execution_count": 219,
     "metadata": {},
     "output_type": "execute_result"
    }
   ],
   "source": [
    "from sklearn.metrics import roc_auc_score\n",
    "\n",
    "roc_auc_score(Y_test, Z3)\n"
   ]
  },
  {
   "cell_type": "code",
   "execution_count": 32,
   "metadata": {},
   "outputs": [
    {
     "data": {
      "image/png": "[encoded data removed]",
      "text/plain": [
       "<Figure size 432x288 with 1 Axes>"
      ]
     },
     "metadata": {
      "needs_background": "light"
     },
     "output_type": "display_data"
    }
   ],
   "source": [
    "costs = [[0.14989176765084267, 0.060277315229177474, 0.03595366030931473, 0.023983438499271873, 0.01745189605280757, 0.013734755944460629, 0.01087184278294444, 0.008805390307679772, 0.007496933359652757, 0.006190448207780719, 0.005323010263964534, 0.0046829227590933446, 0.004106839234009385, 0.0036365702981129293, 0.00328261632239446, 0.002942966762930155, 0.0027493090368807317, 0.0024384532123804094, 0.0022333250613883137, 0.002050547185353935, 0.001881442219018936, 0.0017507830169051885, 0.0016297990456223487, 0.001502217573579401, 0.0014034926891326905, 0.0013059162127319723, 0.0012478824704885484, 0.001131330127827823, 0.001062267174711451, 0.0009966448997147381, 0.0009360875294078143, 0.0008899502863641828, 0.0008391951967496426, 0.0007901425298769027, 0.0007418035180307925, 0.0007062352175125851, 0.0006745069986209273, 0.0006298350694123654, 0.0005971108417725191, 0.0005693562125088647, 0.000536208279663697, 0.000514672408462502, 0.0004885634436504916, 0.0004748494538944215, 0.00045830216840840875, 0.000426047807559371, 0.00040596932522021236, 0.00039315836329478765, 0.00036763414100278165, 0.000353683611319866, 0.0003443802299443632, 0.0003196996622136794, 0.0003083549148868769, 0.0003024954901775345, 0.0002884966699639335, 0.000274467290728353, 0.00025981987128034236, 0.0002496937697287649, 0.00023794224471203053, 0.00023348353715846315, 0.00022032041888451204, 0.00021229424746707084, 0.00021052141746622508, 0.00019742797740036623, 0.00019710431952262296, 0.00018254767492180692, 0.00017378153934259903, 0.0001668456563493237, 0.00016334916581399738, 0.00015474168976652435, 0.0001528471417259425, 0.00014456370481639172, 0.0001423524176061619, 0.00013688045364688148, 0.0001298547053011134, 0.0001292083616135642, 0.00011984628326899839, 0.00011832518721348606, 0.00011432711326051504, 0.00011290185902907977, 0.0001054774234944489, 0.00010076590187964031, 9.767161536728963e-05, 9.572102972015273e-05, 9.147991004283538e-05, 8.912669072742574e-05, 8.589551398472397e-05, 8.311171768582426e-05, 8.087011337920559e-05, 7.701110771449749e-05, 7.406189470202661e-05, 7.166895993577783e-05, 6.907357710588258e-05, 7.018758078629617e-05, 6.499743612948805e-05, 6.380421582434792e-05, 6.355695513775572e-05, 5.921499578107613e-05, 5.776900325145107e-05, 5.608612264040858e-05, 5.340091938705882e-05, 5.2613400112022655e-05, 5.087007848487701e-05, 4.885740236204583e-05, 4.697677250078414e-05, 4.604539280990139e-05, 4.400166963023366e-05, 4.3014845869038264e-05, 4.3801227184303565e-05, 4.0173973866330924e-05, 3.918196525773965e-05, 3.776417561311973e-05, 3.6191938306728844e-05, 3.531208822096232e-05, 3.43334559147479e-05, 3.390562505956041e-05, 3.311818727524951e-05, 3.1701471198175564e-05, 3.0376829454326074e-05, 2.926699107774766e-05, 2.8516146630863656e-05, 2.809136094583664e-05, 2.6944438832288143e-05, 2.578723706392339e-05, 2.5811798332142642e-05, 2.4549758927605583e-05, 2.360755397603498e-05, 2.293190545969992e-05, 2.2896582868270345e-05, 2.243029821329401e-05, 2.097635979225743e-05, 2.03156716452213e-05, 2.0002723067591434e-05, 1.9090139358013402e-05, 1.8954828192363497e-05, 1.7913839838001876e-05, 1.80459094735852e-05, 1.733738972689025e-05, 1.6718779806979e-05, 1.611179286555853e-05, 1.573936770000728e-05, 1.546256407891633e-05, 1.4897422897774957e-05, 1.4088919442656334e-05, 1.3987164766149365e-05, 1.3536714277506691e-05, 1.316420311923139e-05, 1.253517511941027e-05, 1.209918527820264e-05, 1.2055530942234326e-05, 1.1443930407040171e-05, 1.1109415936516598e-05, 1.0927031371466e-05, 1.0684599419619189e-05, 1.0348070100008043e-05, 9.898071812131094e-06, 9.730440797284244e-06, 9.2794702595711e-06, 9.250859284293255e-06, 8.995317830340354e-06, 8.637027531221974e-06, 8.647228423797059e-06, 8.108573956633337e-06, 7.942579441078123e-06, 7.64344604249345e-06, 7.539214630014613e-06, 7.256100843733294e-06, 6.893190266055172e-06, 6.755507843081432e-06, 6.6896487396661535e-06, 6.569991137439501e-06, 6.174823556648334e-06, 6.029167298038374e-06, 5.775330237156595e-06, 5.809080562357848e-06, 5.5397483265551274e-06, 5.4326131476045704e-06, 5.207161916587211e-06, 5.044294834988249e-06, 4.957198598276591e-06, 4.792320214619394e-06, 4.627218140740297e-06, 4.484839314500278e-06, 4.404524906931328e-06, 4.355501073405321e-06, 4.244711385581468e-06, 4.014343880953674e-06, 3.891559276780754e-06, 3.77443784600473e-06, 3.691812571560149e-06, 3.4910957310785303e-06, 3.5132988841724e-06, 3.316605648251425e-06, 3.253723480156623e-06, 3.167595593822625e-06, 3.107395798451762e-06, 2.9871448646190403e-06, 2.8668935215137028e-06, 2.772570246634132e-06, 2.699927756566467e-06, 2.724066303017025e-06, 2.5875741130221288e-06, 2.503010750842805e-06, 2.5158254175039472e-06, 2.3727758616587383e-06, 2.2975256342760985e-06, 2.2099071657066816e-06, 2.1508247300516812e-06, 2.1526129785343073e-06, 2.0674537267950655e-06, 1.983188087706367e-06, 1.9120354863844113e-06, 1.928575261445076e-06, 1.8493021343601865e-06, 1.7583311432645133e-06, 1.7315839329512527e-06, 1.6458280185815967e-06, 1.6015717335449152e-06, 1.5529198321928562e-06, 1.544351795246257e-06, 1.4543491488439031e-06, 1.437287517092045e-06, 1.4223119706002763e-06, 1.3557784825479756e-06, 1.374106653884155e-06, 1.2820926826861976e-06, 1.2573568767493271e-06, 1.2303113351208596e-06, 1.1721971588940507e-06, 1.1357639607467717e-06, 1.1274939168970375e-06, 1.0696031097268134e-06, 1.0724343269430394e-06, 1.0053794142095284e-06, 9.691697613334327e-07, 9.832512034790851e-07, 9.340031454030394e-07, 9.048715071457991e-07, 8.939936890328682e-07, 8.625522895044923e-07, 8.269386626125197e-07, 8.082377362939041e-07, 7.684517896677789e-07, 7.508684518597873e-07, 7.286657819349783e-07, 7.170429313418936e-07, 6.884327746092823e-07, 6.756923227158042e-07, 6.62057743738842e-07, 6.280087120558165e-07, 6.165348366948819e-07, 5.923949800035189e-07, 5.754821970072043e-07, 5.567068086520521e-07, 5.421036973984884e-07, 5.340570879752704e-07, 5.110348354264716e-07, 5.010510875536056e-07, 4.770602359371879e-07, 4.691626585895393e-07, 4.60594479534393e-07, 4.3779575094049504e-07, 4.2766298662400005e-07, 4.1373042165560036e-07, 4.023310495426812e-07, 3.997978524239443e-07, 3.7647756556680184e-07, 3.679839181813805e-07, 3.556159768436373e-07, 3.430990091146669e-07, 3.327427265276129e-07, 3.2179037674495707e-07, 3.211198290387074e-07, 3.1240266622489794e-07, 3.0025822610468823e-07, 2.90348967268983e-07, 2.8386696584448143e-07, 2.7857706541567495e-07, 2.6799724963666447e-07, 2.6307986331630675e-07, 2.6799723542580976e-07, 2.4236727256266024e-07, 2.3424614639111494e-07, 2.3104240085558555e-07, 2.3223448977205408e-07, 2.2202720302288982e-07, 2.1427860588119075e-07, 2.0645550833364723e-07, 2.0399681730509658e-07, 1.9974998934912947e-07, 1.9274644387223815e-07, 1.855938918993161e-07, 1.8164508830409432e-07, 1.7553561661998177e-07, 1.7181032703206258e-07, 1.6488129332969948e-07, 1.636892022816028e-07, 1.6130502231703758e-07, 1.481920053336694e-07]]\n",
    "# plot the cost\n",
    "plt.plot(np.squeeze(costs))\n",
    "plt.ylabel('cost')\n",
    "plt.xlabel('iterations (per tens)')\n",
    "#plt.title(\"Learning rate =\" + str(learning_rate))\n",
    "plt.show()"
   ]
  },
  {
   "cell_type": "markdown",
   "metadata": {},
   "source": []
  }
 ],
 "metadata": {
  "kernelspec": {
   "display_name": "Python 3",
   "language": "python",
   "name": "python3"
  },
  "language_info": {
   "codemirror_mode": {
    "name": "ipython",
    "version": 3
   },
   "file_extension": ".py",
   "mimetype": "text/x-python",
   "name": "python",
   "nbconvert_exporter": "python",
   "pygments_lexer": "ipython3",
   "version": "3.7.0"
  }
 },
 "nbformat": 4,
 "nbformat_minor": 2
}
